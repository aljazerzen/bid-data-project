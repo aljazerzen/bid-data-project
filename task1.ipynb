{
 "cells": [
  {
   "cell_type": "code",
   "execution_count": 2,
   "metadata": {},
   "outputs": [],
   "source": [
    "import polars as pl"
   ]
  },
  {
   "cell_type": "code",
   "execution_count": 2,
   "metadata": {},
   "outputs": [],
   "source": [
    "df = pl.read_csv('./data/Parking_Violations_Issued_-_Fiscal_Year_2022.csv', rechunk=False, ignore_errors=True)"
   ]
  },
  {
   "cell_type": "code",
   "execution_count": 3,
   "metadata": {},
   "outputs": [],
   "source": [
    "df.write_parquet('./data/parking_violations_issued.parquet')"
   ]
  },
  {
   "cell_type": "code",
   "execution_count": 4,
   "metadata": {},
   "outputs": [],
   "source": [
    "df.write_parquet('./data/parking_violations_issued.gz.parquet', compression=\"gzip\")"
   ]
  },
  {
   "cell_type": "code",
   "execution_count": 5,
   "metadata": {},
   "outputs": [],
   "source": [
    "df.write_parquet('./data/parking_violations_issued.br.parquet', compression=\"brotli\")"
   ]
  },
  {
   "cell_type": "code",
   "execution_count": 6,
   "metadata": {},
   "outputs": [],
   "source": [
    "df.write_avro('./data/parking_violations_issued.avro')"
   ]
  },
  {
   "cell_type": "code",
   "execution_count": 7,
   "metadata": {},
   "outputs": [],
   "source": [
    "df.write_avro('./data/parking_violations_issued.snappy.avro', compression=\"snappy\")"
   ]
  },
  {
   "cell_type": "code",
   "execution_count": 3,
   "metadata": {},
   "outputs": [],
   "source": [
    "df = pl.read_parquet('./data/parking_violations_issued.gz.parquet')"
   ]
  },
  {
   "cell_type": "code",
   "execution_count": 4,
   "metadata": {},
   "outputs": [],
   "source": [
    "df_pd = df.to_pandas()"
   ]
  },
  {
   "cell_type": "code",
   "execution_count": 5,
   "metadata": {},
   "outputs": [
    {
     "name": "stderr",
     "output_type": "stream",
     "text": [
      "/tmp/ipykernel_36754/3067158353.py:1: PerformanceWarning: \n",
      "your performance may suffer as PyTables will pickle object types that it cannot\n",
      "map directly to c-types [inferred_type->mixed,key->block1_values] [items->Index(['Plate ID', 'Registration State', 'Plate Type', 'Issue Date',\n",
      "       'Vehicle Body Type', 'Vehicle Make', 'Issuing Agency', 'Violation Time',\n",
      "       'Time First Observed', 'Violation County',\n",
      "       'Violation In Front Of Or Opposite', 'House Number', 'Street Name',\n",
      "       'Intersecting Street', 'Sub Division', 'Violation Legal Code',\n",
      "       'Days Parking In Effect    ', 'From Hours In Effect',\n",
      "       'To Hours In Effect', 'Vehicle Color', 'Meter Number',\n",
      "       'Violation Post Code', 'Violation Description',\n",
      "       'No Standing or Stopping Violation', 'Hydrant Violation',\n",
      "       'Double Parking Violation'],\n",
      "      dtype='object')]\n",
      "\n",
      "  df_pd.to_hdf('./data/parking_violations_issued.hdf', 'df')\n"
     ]
    }
   ],
   "source": [
    "df_pd.to_hdf('./data/parking_violations_issued.hdf', 'df')"
   ]
  },
  {
   "cell_type": "code",
   "execution_count": 7,
   "metadata": {},
   "outputs": [
    {
     "name": "stderr",
     "output_type": "stream",
     "text": [
      "/tmp/ipykernel_36754/4130726187.py:1: PerformanceWarning: \n",
      "your performance may suffer as PyTables will pickle object types that it cannot\n",
      "map directly to c-types [inferred_type->mixed,key->block1_values] [items->Index(['Plate ID', 'Registration State', 'Plate Type', 'Issue Date',\n",
      "       'Vehicle Body Type', 'Vehicle Make', 'Issuing Agency', 'Violation Time',\n",
      "       'Time First Observed', 'Violation County',\n",
      "       'Violation In Front Of Or Opposite', 'House Number', 'Street Name',\n",
      "       'Intersecting Street', 'Sub Division', 'Violation Legal Code',\n",
      "       'Days Parking In Effect    ', 'From Hours In Effect',\n",
      "       'To Hours In Effect', 'Vehicle Color', 'Meter Number',\n",
      "       'Violation Post Code', 'Violation Description',\n",
      "       'No Standing or Stopping Violation', 'Hydrant Violation',\n",
      "       'Double Parking Violation'],\n",
      "      dtype='object')]\n",
      "\n",
      "  df_pd.to_hdf('./data/parking_violations_issued.z.hdf', 'df', complevel=9)\n"
     ]
    }
   ],
   "source": [
    "df_pd.to_hdf('./data/parking_violations_issued.z.hdf', 'df', complevel=9)"
   ]
  },
  {
   "cell_type": "markdown",
   "metadata": {},
   "source": [
    "    ls -lS data > data.ls.txt\n",
    "\n",
    "yields\n",
    "\n",
    "    total 12G\n",
    "    -rw-r--r-- 1 aljaz aljaz 2.6G maj 27 11:05 parking_violations_issued.hdf\n",
    "    -rw-r--r-- 1 aljaz aljaz 2.2G maj 27 11:17 parking_violations_issued.z.hdf\n",
    "    -rw-r--r-- 1 aljaz aljaz 2.2G maj 18 12:34 Parking_Violations_Issued_-_Fiscal_Year_2022.csv\n",
    "    -rw-r--r-- 1 aljaz aljaz 2.2G maj 27 10:59 parking_violations_issued.avro\n",
    "    -rw-r--r-- 1 aljaz aljaz 671M maj 27 10:58 parking_violations_issued.parquet\n",
    "    -rw-r--r-- 1 aljaz aljaz 662M maj 27 10:59 parking_violations_issued.snappy.avro\n",
    "    -rw-r--r-- 1 aljaz aljaz 398M maj 27 10:58 parking_violations_issued.br.parquet\n",
    "    -rw-r--r-- 1 aljaz aljaz 339M maj 27 10:58 parking_violations_issued.gz.parquet\n",
    "\n",
    "Non-compressed formats: \n",
    "- parquet 671M\n",
    "- avro 2.2GB\n",
    "- CSV 2.2GB\n",
    "- HDF 2.6GB\n",
    "\n",
    "Compressed formats:\n",
    "- parquet (gz) 339M\n",
    "- parquet (br) 398M\n",
    "- avro (snappy) 662M\n",
    "- HDF (zlib, comp. level=9) 2.2G"
   ]
  }
 ],
 "metadata": {
  "interpreter": {
   "hash": "e7370f93d1d0cde622a1f8e1c04877d8463912d04d973331ad4851f04de6915a"
  },
  "kernelspec": {
   "display_name": "Python 3.10.4 64-bit",
   "language": "python",
   "name": "python3"
  },
  "language_info": {
   "codemirror_mode": {
    "name": "ipython",
    "version": 3
   },
   "file_extension": ".py",
   "mimetype": "text/x-python",
   "name": "python",
   "nbconvert_exporter": "python",
   "pygments_lexer": "ipython3",
   "version": "3.10.4"
  },
  "orig_nbformat": 4
 },
 "nbformat": 4,
 "nbformat_minor": 2
}
